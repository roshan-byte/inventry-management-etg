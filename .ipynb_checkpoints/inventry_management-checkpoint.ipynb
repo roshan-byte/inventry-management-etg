{
 "cells": [
  {
   "cell_type": "markdown",
   "metadata": {
    "id": "rMpLUpEtkI8V"
   },
   "source": [
    "# Read Data From Json\n"
   ]
  },
  {
   "cell_type": "code",
   "execution_count": 3,
   "metadata": {
    "id": "ihNt4Isp4qbT"
   },
   "outputs": [],
   "source": [
    "import json"
   ]
  },
  {
   "cell_type": "code",
   "execution_count": 9,
   "metadata": {
    "id": "zxoPg647hA2Z"
   },
   "outputs": [],
   "source": [
    "fd=open('record.json','r')\n",
    "read=fd.read()\n",
    "fd.close()"
   ]
  },
  {
   "cell_type": "code",
   "execution_count": 10,
   "metadata": {
    "id": "U9BHEZUQhgwI"
   },
   "outputs": [],
   "source": [
    "records=json.loads(read)"
   ]
  },
  {
   "cell_type": "code",
   "execution_count": 11,
   "metadata": {
    "colab": {
     "base_uri": "https://localhost:8080/"
    },
    "id": "Eo6K52G5iJEy",
    "outputId": "d2e2e0e7-05d7-4298-ac5c-5ea842e7a5b5"
   },
   "outputs": [
    {
     "data": {
      "text/plain": [
       "{'12661': {'name': 'Choco Cake', 'pr': 100, 'qn': 14, 'Exp-Date': '3/9/21'},\n",
       " '12662': {'name': 'Milk Cake', 'pr': 800, 'qn': 50, 'Exp-Date': '13/10/21'},\n",
       " '12663': {'name': 'Drink', 'pr': 85, 'qn': 80, 'Exp-Date': '13/8/21'},\n",
       " '12664': {'name': 'Candy', 'pr': 5, 'qn': 1000, 'Exp-Date': '23/9/21'},\n",
       " '12665': {'name': 'Pen', 'pr': 20, 'qn': 95},\n",
       " '12666': {'name': 'Phone', 'pr': 50000, 'qn': 9},\n",
       " '12667': {'name': 'Mic', 'pr': 1500, 'qn': 5, 'Exp-Date': '13/7/21'},\n",
       " '12670': {'name': 'Dairy Milk', 'pr': 50, 'qn': 35, 'Exp-Date': '30/8/21'},\n",
       " '12671': {'name': '5-Star', 'pr': 5, 'qn': 40, 'Exp-Date': '13/10/21'},\n",
       " '12672': {'name': 'Kit-kat', 'pr': 25, 'qn': 40, 'Exp-Date': '3/10/21'},\n",
       " '12673': {'name': 'Pencil', 'pr': 5, 'qn': 50},\n",
       " '12674': {'name': 'Notebook', 'pr': 50, 'qn': 400},\n",
       " '12675': {'name': 'Book', 'pr': 100, 'qn': 40},\n",
       " '12676': {'name': 'Laptop', 'pr': 35000, 'qn': 10},\n",
       " '12677': {'name': 'Oreo Biscuit', 'pr': 100, 'qn': 25, 'Exp-Date': '9/10/21'},\n",
       " '12678': {'name': 'Parle-G', 'pr': 20, 'qn': 20, 'Exp-Date': '3/11/21'},\n",
       " '12679': {'name': 'Monaco', 'pr': 50, 'qn': 40, 'Exp-Date': '5/9/21'},\n",
       " '12680': {'name': 'BAG', 'pr': 70, 'qn': 30},\n",
       " '12681': {'name': 'Shoes', 'pr': 10, 'qn': 40},\n",
       " '12682': {'name': 'Ring', 'pr': 700, 'qn': 25},\n",
       " '12683': {'name': 'Ball', 'pr': 50, 'qn': 60},\n",
       " '12684': {'name': 'Football', 'pr': 90, 'qn': 80},\n",
       " '12685': {'name': 'Ghee', 'pr': 150, 'qn': 10, 'Exp-Date': '6/11/21'},\n",
       " '12668': {'name': 'Coco Powder', 'pr': 70, 'qn': 5},\n",
       " '12669': {'name': 'Cheese', 'pr': 210, 'qn': 25},\n",
       " '12686': {'name': 'Panner', 'pr': 200, 'qn': 20}}"
      ]
     },
     "execution_count": 11,
     "metadata": {},
     "output_type": "execute_result"
    }
   ],
   "source": [
    "records"
   ]
  },
  {
   "cell_type": "markdown",
   "metadata": {
    "id": "_J1iBcQhkUkW"
   },
   "source": [
    "# program to add new item in the json file\n",
    "\n"
   ]
  },
  {
   "cell_type": "code",
   "execution_count": 15,
   "metadata": {
    "colab": {
     "base_uri": "https://localhost:8080/"
    },
    "id": "iq6-jc0pigD1",
    "outputId": "f6f5ad78-0e75-4d4f-d519-1f4de4fd68ce"
   },
   "outputs": [
    {
     "name": "stdout",
     "output_type": "stream",
     "text": [
      "Enter product id:12\n",
      "Enter name:roshan\n",
      "Enter price:23\n",
      "Enter quantity:45\n"
     ]
    }
   ],
   "source": [
    "prod_id = str(input(\"Enter product id:\"))\n",
    "name = str(input(\"Enter name:\"))\n",
    "pr = int(input(\"Enter price:\"))\n",
    "qn = int(input(\"Enter quantity:\"))\n",
    "a=0\n",
    "for i in records.keys():\n",
    "   if (prod_id==i):\n",
    "       b=records[i]['qn']+qn\n",
    "       records[prod_id]={'name':name,'pr':pr,'qn':b}\n",
    "       a+=1\n",
    "       \n",
    "if a==0:\n",
    "    records[prod_id]={'name':name,'pr':pr,'qn':qn}\n",
    "js = json.dumps(records)\n",
    "\n",
    "fd = open(\"records.json\",'w')\n",
    "fd.write(js)\n",
    "fd.close()"
   ]
  },
  {
   "cell_type": "code",
   "execution_count": 25,
   "metadata": {},
   "outputs": [
    {
     "data": {
      "text/plain": [
       "{'12661': {'name': 'Choco Cake', 'pr': 100, 'qn': 14, 'Exp-Date': '3/9/21'},\n",
       " '12662': {'name': 'Milk Cake', 'pr': 800, 'qn': 50, 'Exp-Date': '13/10/21'},\n",
       " '12663': {'name': 'Drink', 'pr': 85, 'qn': 80, 'Exp-Date': '13/8/21'},\n",
       " '12664': {'name': 'Candy', 'pr': 5, 'qn': 1000, 'Exp-Date': '23/9/21'},\n",
       " '12665': {'name': 'Pen', 'pr': 20, 'qn': 95},\n",
       " '12666': {'name': 'Phone', 'pr': 50000, 'qn': 9},\n",
       " '12667': {'name': 'Mic', 'pr': 1500, 'qn': 5, 'Exp-Date': '13/7/21'},\n",
       " '12670': {'name': 'Dairy Milk', 'pr': 50, 'qn': 35, 'Exp-Date': '30/8/21'},\n",
       " '12671': {'name': '5-Star', 'pr': 5, 'qn': 40, 'Exp-Date': '13/10/21'},\n",
       " '12672': {'name': 'Kit-kat', 'pr': 25, 'qn': 40, 'Exp-Date': '3/10/21'},\n",
       " '12673': {'name': 'Pencil', 'pr': 5, 'qn': 50},\n",
       " '12674': {'name': 'Notebook', 'pr': 50, 'qn': 400},\n",
       " '12675': {'name': 'Book', 'pr': 100, 'qn': 40},\n",
       " '12676': {'name': 'Laptop', 'pr': 35000, 'qn': 10},\n",
       " '12677': {'name': 'Oreo Biscuit', 'pr': 100, 'qn': 25, 'Exp-Date': '9/10/21'},\n",
       " '12678': {'name': 'Parle-G', 'pr': 20, 'qn': 20, 'Exp-Date': '3/11/21'},\n",
       " '12679': {'name': 'Monaco', 'pr': 50, 'qn': 40, 'Exp-Date': '5/9/21'},\n",
       " '12680': {'name': 'BAG', 'pr': 70, 'qn': 30},\n",
       " '12681': {'name': 'Shoes', 'pr': 10, 'qn': 40},\n",
       " '12682': {'name': 'Ring', 'pr': 700, 'qn': 25},\n",
       " '12683': {'name': 'Ball', 'pr': 50, 'qn': 60},\n",
       " '12684': {'name': 'Football', 'pr': 90, 'qn': 80},\n",
       " '12685': {'name': 'Ghee', 'pr': 150, 'qn': 10, 'Exp-Date': '6/11/21'},\n",
       " '12668': {'name': 'Coco Powder', 'pr': 70, 'qn': 5},\n",
       " '12669': {'name': 'Cheese', 'pr': 210, 'qn': 25},\n",
       " '12686': {'name': 'Panner', 'pr': 200, 'qn': 20},\n",
       " '12': {'name': 'roshan', 'pr': 23, 'qn': 47}}"
      ]
     },
     "execution_count": 25,
     "metadata": {},
     "output_type": "execute_result"
    }
   ],
   "source": [
    "records"
   ]
  },
  {
   "cell_type": "markdown",
   "metadata": {
    "id": "NS3jPI2p4c2O"
   },
   "source": [
    "# program to purchase product\n"
   ]
  },
  {
   "cell_type": "code",
   "execution_count": 26,
   "metadata": {
    "colab": {
     "base_uri": "https://localhost:8080/"
    },
    "id": "7nsA2U0o41iW",
    "outputId": "f7133985-d699-452b-970b-5500562f7b29"
   },
   "outputs": [
    {
     "name": "stdout",
     "output_type": "stream",
     "text": [
      "Enter the product_Id: 12661\n",
      "Enter the quantity: 5\n",
      "Product:  Choco Cake\n",
      "Price:  100\n",
      "Billing Amount:  500\n"
     ]
    }
   ],
   "source": [
    "ui_prod  = str(input(\"Enter the product_Id: \"))\n",
    "ui_quant = int(input(\"Enter the quantity: \"))\n",
    "\n",
    "c=0\n",
    "for i in record.keys():\n",
    "   if (ui_prod==i and record[i]['qn']!=0):\n",
    "       print(\"Product: \", record[i]['name'])\n",
    "       print(\"Price: \", record[i]['pr'])\n",
    "       print(\"Billing Amount: \", record[i]['pr'] * ui_quant)\n",
    "       record[i]['qn'] = record[i]['qn'] - ui_quant\n",
    "       c+=1\n",
    "if c==0:\n",
    "    print('Sorry!, This product is not available')\n",
    "    "
   ]
  },
  {
   "cell_type": "markdown",
   "metadata": {
    "id": "V2-19z1M8b7u"
   },
   "source": [
    "# program to  Update Inventery After Purchse"
   ]
  },
  {
   "cell_type": "code",
   "execution_count": 27,
   "metadata": {
    "id": "O5geRs7s8mNC"
   },
   "outputs": [],
   "source": [
    "js = json.dumps(record)\n",
    "\n",
    "fd = open(\"record.json\",'w')\n",
    "fd.write(js)\n",
    "fd.close()"
   ]
  },
  {
   "cell_type": "markdown",
   "metadata": {
    "id": "Hh0weja2H70u"
   },
   "source": [
    "# Sales file in Json\n"
   ]
  },
  {
   "cell_type": "code",
   "execution_count": 31,
   "metadata": {
    "colab": {
     "base_uri": "https://localhost:8080/"
    },
    "id": "OVlpPkpx89Hs",
    "outputId": "6479c128-1669-40e1-bdd7-161a2a90df8e"
   },
   "outputs": [
    {
     "data": {
      "text/plain": [
       "{'prod': '12661', 'qn': 5, 'amount': 500}"
      ]
     },
     "execution_count": 31,
     "metadata": {},
     "output_type": "execute_result"
    }
   ],
   "source": [
    "{'prod' : ui_prod, 'qn' : ui_quant, 'amount': record[ui_prod]['pr'] * ui_quant}\n"
   ]
  },
  {
   "cell_type": "code",
   "execution_count": 41,
   "metadata": {},
   "outputs": [],
   "source": [
    "fd=open('sales.json','r')\n",
    "read=fd.read()\n",
    "fd.close()"
   ]
  },
  {
   "cell_type": "code",
   "execution_count": null,
   "metadata": {
    "id": "slBFNqkMJd1b"
   },
   "outputs": [],
   "source": [
    "\n",
    "if c==0:\n",
    "    sales={'1':{'prod' : ui_prod, 'qn' : ui_quant, 'amount': record[ui_prod]['pr'] * ui_quant}}\n",
    "    c+=1\n",
    "else:\n",
    "    sales[len(sale)+1]={'prod' : ui_prod, 'qn' : ui_quant, 'amount': record[ui_prod]['pr'] * ui_quant}\n"
   ]
  },
  {
   "cell_type": "code",
   "execution_count": null,
   "metadata": {
    "id": "W53di2GxF4-z"
   },
   "outputs": [],
   "source": [
    "sales=json.dumps(sale)"
   ]
  },
  {
   "cell_type": "code",
   "execution_count": null,
   "metadata": {
    "colab": {
     "base_uri": "https://localhost:8080/",
     "height": 86
    },
    "id": "2Bh1DldvGli_",
    "outputId": "d2f6b62c-5761-415f-93ce-01ab50b503f7"
   },
   "outputs": [],
   "source": []
  },
  {
   "cell_type": "code",
   "execution_count": null,
   "metadata": {
    "id": "VbbHzIGlKMX1"
   },
   "outputs": [],
   "source": []
  },
  {
   "cell_type": "code",
   "execution_count": null,
   "metadata": {},
   "outputs": [],
   "source": []
  },
  {
   "cell_type": "code",
   "execution_count": null,
   "metadata": {},
   "outputs": [],
   "source": []
  }
 ],
 "metadata": {
  "colab": {
   "collapsed_sections": [],
   "name": "JSON_based_ UMS.ipynb",
   "provenance": []
  },
  "kernelspec": {
   "display_name": "Python 3 (ipykernel)",
   "language": "python",
   "name": "python3"
  },
  "language_info": {
   "codemirror_mode": {
    "name": "ipython",
    "version": 3
   },
   "file_extension": ".py",
   "mimetype": "text/x-python",
   "name": "python",
   "nbconvert_exporter": "python",
   "pygments_lexer": "ipython3",
   "version": "3.9.5"
  }
 },
 "nbformat": 4,
 "nbformat_minor": 1
}
